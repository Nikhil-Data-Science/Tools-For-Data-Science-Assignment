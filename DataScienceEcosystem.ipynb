{
 "cells": [
  {
   "cell_type": "markdown",
   "id": "6d055cff-b600-4b39-bcff-88323970d88e",
   "metadata": {},
   "source": [
    "# Data Sciecne Tools and Ecosystem"
   ]
  },
  {
   "cell_type": "markdown",
   "id": "ad748043-fcb4-4a76-938d-190ff9240489",
   "metadata": {},
   "source": [
    "## In this notebook, Data Science tools and Ecosystems are summarized."
   ]
  },
  {
   "cell_type": "markdown",
   "id": "116797b5-9d78-4ae7-89d3-8eff96edd8ce",
   "metadata": {},
   "source": [
    "## Objectives: Some of the key takeaways from the course\n",
    "* Popular languages of Data Science\n",
    "* Popular libraries of Data Scienc\n",
    "* Open Source tools of Data Science\n",
    "* Performed arithmetic operations"
   ]
  },
  {
   "cell_type": "markdown",
   "id": "d7d59e42-ac57-4b83-b8b4-348277734e23",
   "metadata": {},
   "source": [
    "### Some of the popular languages of Data Science\n",
    "1. Python\n",
    "2. R\n",
    "3. SQL\n",
    "4. Julia\n",
    "5. Java"
   ]
  },
  {
   "cell_type": "markdown",
   "id": "f63c6b56-f183-4251-bbfd-d4a09498111d",
   "metadata": {},
   "source": [
    "### Some of the popular libraries of Data Science\n",
    "1. Pandas\n",
    "2. Numpy\n",
    "3. Matplot.lib\n",
    "4. Plotly\n",
    "5. Seaborne\n",
    "6. SciKit Learn"
   ]
  },
  {
   "cell_type": "markdown",
   "id": "ad0a16b1-b215-4892-8598-4983f1bc9d6d",
   "metadata": {},
   "source": [
    "|Data Science Tools|\n",
    "|-------------------|\n",
    "|Juypter Notebook|\n",
    "|R Studio|\n",
    "|Spyder|\n",
    "|VS Code|\n",
    "|Apache Zepplin|"
   ]
  },
  {
   "cell_type": "markdown",
   "id": "8a4d362e-7663-4427-bacd-da39f173e366",
   "metadata": {},
   "source": [
    "## Below are few examples of evaluating arithmetic expression in Python"
   ]
  },
  {
   "cell_type": "code",
   "execution_count": 1,
   "id": "33c41bd2-38da-4eef-9895-60bcf31a824e",
   "metadata": {},
   "outputs": [
    {
     "data": {
      "text/plain": [
       "17"
      ]
     },
     "execution_count": 1,
     "metadata": {},
     "output_type": "execute_result"
    }
   ],
   "source": [
    "#This is a simple arithmetic expression to multiply then add integers\n",
    "(3*4)+5"
   ]
  },
  {
   "cell_type": "code",
   "execution_count": 2,
   "id": "2394f56a-13e9-4b2b-bc3d-89a42b8dd48d",
   "metadata": {},
   "outputs": [
    {
     "data": {
      "text/plain": [
       "3.3333333333333335"
      ]
     },
     "execution_count": 2,
     "metadata": {},
     "output_type": "execute_result"
    }
   ],
   "source": [
    "#This will convert 200 minutes to hours by dividing by 60\n",
    "200/60"
   ]
  },
  {
   "cell_type": "markdown",
   "id": "63b383d2-e88c-461b-82dc-73cdef9052bf",
   "metadata": {},
   "source": [
    "# Author\n",
    "Nikhil Mathur"
   ]
  },
  {
   "cell_type": "code",
   "execution_count": null,
   "id": "a1c05459-9462-4f06-952b-9482f085028c",
   "metadata": {},
   "outputs": [],
   "source": []
  }
 ],
 "metadata": {
  "kernelspec": {
   "display_name": "Python 3 (ipykernel)",
   "language": "python",
   "name": "python3"
  },
  "language_info": {
   "codemirror_mode": {
    "name": "ipython",
    "version": 3
   },
   "file_extension": ".py",
   "mimetype": "text/x-python",
   "name": "python",
   "nbconvert_exporter": "python",
   "pygments_lexer": "ipython3",
   "version": "3.12.8"
  }
 },
 "nbformat": 4,
 "nbformat_minor": 5
}
